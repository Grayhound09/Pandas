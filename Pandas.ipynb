{
 "cells": [
  {
   "cell_type": "code",
   "execution_count": 3,
   "metadata": {},
   "outputs": [],
   "source": [
    "import pandas as pd\n",
    "import matplotlib.pyplot as plt\n",
    "import seaborn as sns\n",
    "import numpy as np\n",
    "import matplotlib.pyplot as plt\n",
    "import matplotx"
   ]
  },
  {
   "cell_type": "code",
   "execution_count": 18,
   "metadata": {},
   "outputs": [
    {
     "name": "stdout",
     "output_type": "stream",
     "text": [
      "First five rows\n",
      "             name            capital  population     area     region\n",
      "0  South Georgia  King Edward Point          30   3903.0  Antarctic\n",
      "1        Grenada       St. George's      112519    344.0   Americas\n",
      "2    Switzerland               Bern     8654622  41284.0     Europe\n",
      "3   Sierra Leone           Freetown     7976985  71740.0     Africa\n",
      "4        Hungary           Budapest     9749763  93028.0     Europe \n",
      "\n",
      "Last five rows\n",
      "             name     capital  population      area    region\n",
      "245      Belgium    Brussels    11555997   30528.0    Europe\n",
      "246       Israel   Jerusalem     9216900   20770.0      Asia\n",
      "247  New Zealand  Wellington     5084300  270467.0   Oceania\n",
      "248    Nicaragua     Managua     6624554  130373.0  Americas\n",
      "249     Anguilla  The Valley       13452      91.0  Americas \n",
      "\n",
      "<class 'pandas.core.frame.DataFrame'>\n",
      "RangeIndex: 250 entries, 0 to 249\n",
      "Data columns (total 5 columns):\n",
      " #   Column      Non-Null Count  Dtype  \n",
      "---  ------      --------------  -----  \n",
      " 0   name        250 non-null    object \n",
      " 1   capital     246 non-null    object \n",
      " 2   population  250 non-null    int64  \n",
      " 3   area        250 non-null    float64\n",
      " 4   region      250 non-null    object \n",
      "dtypes: float64(1), int64(1), object(3)\n",
      "memory usage: 9.9+ KB\n",
      "Information about the data\n",
      " None \n",
      "\n",
      "Statistical information about the data\n",
      "          population          area\n",
      "count  2.500000e+02  2.500000e+02\n",
      "mean   3.111089e+07  6.005848e+05\n",
      "std    1.296673e+08  1.909805e+06\n",
      "min    0.000000e+00  4.400000e-01\n",
      "25%    2.210995e+05  1.194250e+03\n",
      "50%    4.912244e+06  6.492950e+04\n",
      "75%    1.902577e+07  3.727260e+05\n",
      "max    1.402112e+09  1.709824e+07 \n",
      "\n"
     ]
    }
   ],
   "source": [
    "df = pd.read_csv(r\"D:\\OneDrive\\Documents\\Python_\\GitHub\\Pandas\\countries_data.csv\")\n",
    "\n",
    "# head is used for displaying the first 5 rows of the data\n",
    "\n",
    "print(\"First five rows\\n\", df.head(), \"\\n\")\n",
    "\n",
    "# tail is used for displaying the last 5 rows of the data\n",
    "\n",
    "print(\"Last five rows\\n\",df.tail(),\"\\n\")\n",
    "\n",
    "# info is used for displaying the information about the data\n",
    "\n",
    "print(\"Information about the data\\n\",df.info(),\"\\n\")\n",
    "\n",
    "# describe is used for displaying the statistical information about the data\n",
    "\n",
    "print(\"Statistical information about the data\\n\",df.describe(),\"\\n\")\n"
   ]
  },
  {
   "cell_type": "code",
   "execution_count": 19,
   "metadata": {},
   "outputs": [
    {
     "name": "stdout",
     "output_type": "stream",
     "text": [
      "Number of rows and columns\n",
      " (250, 5) \n",
      "\n"
     ]
    }
   ],
   "source": [
    "# Shape is attribute not method\n",
    "# use shape to get the number of rows and columns\n",
    "\n",
    "print(\"Number of rows and columns\\n\",df.shape,\"\\n\")"
   ]
  },
  {
   "cell_type": "code",
   "execution_count": 20,
   "metadata": {},
   "outputs": [
    {
     "name": "stdout",
     "output_type": "stream",
     "text": [
      "Column names\n",
      " Index(['name', 'capital', 'population', 'area', 'region'], dtype='object') \n",
      "\n"
     ]
    }
   ],
   "source": [
    "# use columns to get the column names\n",
    "\n",
    "print(\"Column names\\n\",df.columns,\"\\n\")"
   ]
  },
  {
   "cell_type": "code",
   "execution_count": 1,
   "metadata": {},
   "outputs": [
    {
     "ename": "NameError",
     "evalue": "name 'pd' is not defined",
     "output_type": "error",
     "traceback": [
      "\u001b[31m---------------------------------------------------------------------------\u001b[39m",
      "\u001b[31mNameError\u001b[39m                                 Traceback (most recent call last)",
      "\u001b[36mCell\u001b[39m\u001b[36m \u001b[39m\u001b[32mIn[1]\u001b[39m\u001b[32m, line 3\u001b[39m\n\u001b[32m      1\u001b[39m \u001b[38;5;66;03m# Create a Series\u001b[39;00m\n\u001b[32m----> \u001b[39m\u001b[32m3\u001b[39m s = \u001b[43mpd\u001b[49m.Series([\u001b[33m\"\u001b[39m\u001b[33mEarth\u001b[39m\u001b[33m\"\u001b[39m, \u001b[33m\"\u001b[39m\u001b[33mMoon\u001b[39m\u001b[33m\"\u001b[39m, \u001b[33m\"\u001b[39m\u001b[33mMars\u001b[39m\u001b[33m\"\u001b[39m, \u001b[33m\"\u001b[39m\u001b[33mVenus\u001b[39m\u001b[33m\"\u001b[39m, \u001b[33m\"\u001b[39m\u001b[33mJupiter\u001b[39m\u001b[33m\"\u001b[39m, \u001b[33m\"\u001b[39m\u001b[33mSaturn\u001b[39m\u001b[33m\"\u001b[39m, \u001b[33m\"\u001b[39m\u001b[33mUranus\u001b[39m\u001b[33m\"\u001b[39m, \u001b[33m\"\u001b[39m\u001b[33mNeptune\u001b[39m\u001b[33m\"\u001b[39m, \u001b[33m\"\u001b[39m\u001b[33mPluto\u001b[39m\u001b[33m\"\u001b[39m])\n\u001b[32m      4\u001b[39m \u001b[38;5;28mprint\u001b[39m(s)\n",
      "\u001b[31mNameError\u001b[39m: name 'pd' is not defined"
     ]
    }
   ],
   "source": [
    "# Create a Series\n",
    "\n",
    "s = pd.Series([\"Earth\", \"Moon\", \"Mars\", \"Venus\", \"Jupiter\", \"Saturn\", \"Uranus\", \"Neptune\", \"Pluto\"])\n",
    "print(s)"
   ]
  },
  {
   "cell_type": "code",
   "execution_count": null,
   "metadata": {},
   "outputs": [],
   "source": []
  }
 ],
 "metadata": {
  "kernelspec": {
   "display_name": ".venv",
   "language": "python",
   "name": "python3"
  },
  "language_info": {
   "codemirror_mode": {
    "name": "ipython",
    "version": 3
   },
   "file_extension": ".py",
   "mimetype": "text/x-python",
   "name": "python",
   "nbconvert_exporter": "python",
   "pygments_lexer": "ipython3",
   "version": "3.13.2"
  }
 },
 "nbformat": 4,
 "nbformat_minor": 2
}
