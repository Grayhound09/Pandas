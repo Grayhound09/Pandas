{
 "cells": [
  {
   "cell_type": "code",
   "execution_count": 14,
   "metadata": {},
   "outputs": [],
   "source": [
    "import pandas as pd\n",
    "import matplotlib.pyplot as plt\n",
    "import seaborn as sns\n",
    "import numpy as np\n",
    "import matplotlib.pyplot as plt\n",
    "import matplotx"
   ]
  },
  {
   "cell_type": "markdown",
   "metadata": {},
   "source": [
    "# Pandas Data Frame Basic\n"
   ]
  },
  {
   "cell_type": "code",
   "execution_count": null,
   "metadata": {},
   "outputs": [
    {
     "data": {
      "text/plain": [
       "'First five rows'"
      ]
     },
     "metadata": {},
     "output_type": "display_data"
    },
    {
     "data": {
      "text/html": [
       "<div>\n",
       "<style scoped>\n",
       "    .dataframe tbody tr th:only-of-type {\n",
       "        vertical-align: middle;\n",
       "    }\n",
       "\n",
       "    .dataframe tbody tr th {\n",
       "        vertical-align: top;\n",
       "    }\n",
       "\n",
       "    .dataframe thead th {\n",
       "        text-align: right;\n",
       "    }\n",
       "</style>\n",
       "<table border=\"1\" class=\"dataframe\">\n",
       "  <thead>\n",
       "    <tr style=\"text-align: right;\">\n",
       "      <th></th>\n",
       "      <th>name</th>\n",
       "      <th>capital</th>\n",
       "      <th>population</th>\n",
       "      <th>area</th>\n",
       "      <th>region</th>\n",
       "    </tr>\n",
       "  </thead>\n",
       "  <tbody>\n",
       "    <tr>\n",
       "      <th>0</th>\n",
       "      <td>South Georgia</td>\n",
       "      <td>King Edward Point</td>\n",
       "      <td>30</td>\n",
       "      <td>3903.0</td>\n",
       "      <td>Antarctic</td>\n",
       "    </tr>\n",
       "    <tr>\n",
       "      <th>1</th>\n",
       "      <td>Grenada</td>\n",
       "      <td>St. George's</td>\n",
       "      <td>112519</td>\n",
       "      <td>344.0</td>\n",
       "      <td>Americas</td>\n",
       "    </tr>\n",
       "    <tr>\n",
       "      <th>2</th>\n",
       "      <td>Switzerland</td>\n",
       "      <td>Bern</td>\n",
       "      <td>8654622</td>\n",
       "      <td>41284.0</td>\n",
       "      <td>Europe</td>\n",
       "    </tr>\n",
       "    <tr>\n",
       "      <th>3</th>\n",
       "      <td>Sierra Leone</td>\n",
       "      <td>Freetown</td>\n",
       "      <td>7976985</td>\n",
       "      <td>71740.0</td>\n",
       "      <td>Africa</td>\n",
       "    </tr>\n",
       "    <tr>\n",
       "      <th>4</th>\n",
       "      <td>Hungary</td>\n",
       "      <td>Budapest</td>\n",
       "      <td>9749763</td>\n",
       "      <td>93028.0</td>\n",
       "      <td>Europe</td>\n",
       "    </tr>\n",
       "  </tbody>\n",
       "</table>\n",
       "</div>"
      ],
      "text/plain": [
       "            name            capital  population     area     region\n",
       "0  South Georgia  King Edward Point          30   3903.0  Antarctic\n",
       "1        Grenada       St. George's      112519    344.0   Americas\n",
       "2    Switzerland               Bern     8654622  41284.0     Europe\n",
       "3   Sierra Leone           Freetown     7976985  71740.0     Africa\n",
       "4        Hungary           Budapest     9749763  93028.0     Europe"
      ]
     },
     "metadata": {},
     "output_type": "display_data"
    },
    {
     "data": {
      "text/plain": [
       "'Last five rows'"
      ]
     },
     "metadata": {},
     "output_type": "display_data"
    },
    {
     "data": {
      "text/html": [
       "<div>\n",
       "<style scoped>\n",
       "    .dataframe tbody tr th:only-of-type {\n",
       "        vertical-align: middle;\n",
       "    }\n",
       "\n",
       "    .dataframe tbody tr th {\n",
       "        vertical-align: top;\n",
       "    }\n",
       "\n",
       "    .dataframe thead th {\n",
       "        text-align: right;\n",
       "    }\n",
       "</style>\n",
       "<table border=\"1\" class=\"dataframe\">\n",
       "  <thead>\n",
       "    <tr style=\"text-align: right;\">\n",
       "      <th></th>\n",
       "      <th>name</th>\n",
       "      <th>capital</th>\n",
       "      <th>population</th>\n",
       "      <th>area</th>\n",
       "      <th>region</th>\n",
       "    </tr>\n",
       "  </thead>\n",
       "  <tbody>\n",
       "    <tr>\n",
       "      <th>245</th>\n",
       "      <td>Belgium</td>\n",
       "      <td>Brussels</td>\n",
       "      <td>11555997</td>\n",
       "      <td>30528.0</td>\n",
       "      <td>Europe</td>\n",
       "    </tr>\n",
       "    <tr>\n",
       "      <th>246</th>\n",
       "      <td>Israel</td>\n",
       "      <td>Jerusalem</td>\n",
       "      <td>9216900</td>\n",
       "      <td>20770.0</td>\n",
       "      <td>Asia</td>\n",
       "    </tr>\n",
       "    <tr>\n",
       "      <th>247</th>\n",
       "      <td>New Zealand</td>\n",
       "      <td>Wellington</td>\n",
       "      <td>5084300</td>\n",
       "      <td>270467.0</td>\n",
       "      <td>Oceania</td>\n",
       "    </tr>\n",
       "    <tr>\n",
       "      <th>248</th>\n",
       "      <td>Nicaragua</td>\n",
       "      <td>Managua</td>\n",
       "      <td>6624554</td>\n",
       "      <td>130373.0</td>\n",
       "      <td>Americas</td>\n",
       "    </tr>\n",
       "    <tr>\n",
       "      <th>249</th>\n",
       "      <td>Anguilla</td>\n",
       "      <td>The Valley</td>\n",
       "      <td>13452</td>\n",
       "      <td>91.0</td>\n",
       "      <td>Americas</td>\n",
       "    </tr>\n",
       "  </tbody>\n",
       "</table>\n",
       "</div>"
      ],
      "text/plain": [
       "            name     capital  population      area    region\n",
       "245      Belgium    Brussels    11555997   30528.0    Europe\n",
       "246       Israel   Jerusalem     9216900   20770.0      Asia\n",
       "247  New Zealand  Wellington     5084300  270467.0   Oceania\n",
       "248    Nicaragua     Managua     6624554  130373.0  Americas\n",
       "249     Anguilla  The Valley       13452      91.0  Americas"
      ]
     },
     "metadata": {},
     "output_type": "display_data"
    },
    {
     "data": {
      "text/plain": [
       "'Information about the data'"
      ]
     },
     "metadata": {},
     "output_type": "display_data"
    },
    {
     "data": {
      "text/plain": [
       "<bound method DataFrame.info of               name            capital  population      area     region\n",
       "0    South Georgia  King Edward Point          30    3903.0  Antarctic\n",
       "1          Grenada       St. George's      112519     344.0   Americas\n",
       "2      Switzerland               Bern     8654622   41284.0     Europe\n",
       "3     Sierra Leone           Freetown     7976985   71740.0     Africa\n",
       "4          Hungary           Budapest     9749763   93028.0     Europe\n",
       "..             ...                ...         ...       ...        ...\n",
       "245        Belgium           Brussels    11555997   30528.0     Europe\n",
       "246         Israel          Jerusalem     9216900   20770.0       Asia\n",
       "247    New Zealand         Wellington     5084300  270467.0    Oceania\n",
       "248      Nicaragua            Managua     6624554  130373.0   Americas\n",
       "249       Anguilla         The Valley       13452      91.0   Americas\n",
       "\n",
       "[250 rows x 5 columns]>"
      ]
     },
     "metadata": {},
     "output_type": "display_data"
    },
    {
     "data": {
      "text/plain": [
       "'Statistical information about the data'"
      ]
     },
     "metadata": {},
     "output_type": "display_data"
    },
    {
     "data": {
      "text/html": [
       "<div>\n",
       "<style scoped>\n",
       "    .dataframe tbody tr th:only-of-type {\n",
       "        vertical-align: middle;\n",
       "    }\n",
       "\n",
       "    .dataframe tbody tr th {\n",
       "        vertical-align: top;\n",
       "    }\n",
       "\n",
       "    .dataframe thead th {\n",
       "        text-align: right;\n",
       "    }\n",
       "</style>\n",
       "<table border=\"1\" class=\"dataframe\">\n",
       "  <thead>\n",
       "    <tr style=\"text-align: right;\">\n",
       "      <th></th>\n",
       "      <th>population</th>\n",
       "      <th>area</th>\n",
       "    </tr>\n",
       "  </thead>\n",
       "  <tbody>\n",
       "    <tr>\n",
       "      <th>count</th>\n",
       "      <td>2.500000e+02</td>\n",
       "      <td>2.500000e+02</td>\n",
       "    </tr>\n",
       "    <tr>\n",
       "      <th>mean</th>\n",
       "      <td>3.111089e+07</td>\n",
       "      <td>6.005848e+05</td>\n",
       "    </tr>\n",
       "    <tr>\n",
       "      <th>std</th>\n",
       "      <td>1.296673e+08</td>\n",
       "      <td>1.909805e+06</td>\n",
       "    </tr>\n",
       "    <tr>\n",
       "      <th>min</th>\n",
       "      <td>0.000000e+00</td>\n",
       "      <td>4.400000e-01</td>\n",
       "    </tr>\n",
       "    <tr>\n",
       "      <th>25%</th>\n",
       "      <td>2.210995e+05</td>\n",
       "      <td>1.194250e+03</td>\n",
       "    </tr>\n",
       "    <tr>\n",
       "      <th>50%</th>\n",
       "      <td>4.912244e+06</td>\n",
       "      <td>6.492950e+04</td>\n",
       "    </tr>\n",
       "    <tr>\n",
       "      <th>75%</th>\n",
       "      <td>1.902577e+07</td>\n",
       "      <td>3.727260e+05</td>\n",
       "    </tr>\n",
       "    <tr>\n",
       "      <th>max</th>\n",
       "      <td>1.402112e+09</td>\n",
       "      <td>1.709824e+07</td>\n",
       "    </tr>\n",
       "  </tbody>\n",
       "</table>\n",
       "</div>"
      ],
      "text/plain": [
       "         population          area\n",
       "count  2.500000e+02  2.500000e+02\n",
       "mean   3.111089e+07  6.005848e+05\n",
       "std    1.296673e+08  1.909805e+06\n",
       "min    0.000000e+00  4.400000e-01\n",
       "25%    2.210995e+05  1.194250e+03\n",
       "50%    4.912244e+06  6.492950e+04\n",
       "75%    1.902577e+07  3.727260e+05\n",
       "max    1.402112e+09  1.709824e+07"
      ]
     },
     "metadata": {},
     "output_type": "display_data"
    },
    {
     "data": {
      "text/plain": [
       "'Type of the data'"
      ]
     },
     "metadata": {},
     "output_type": "display_data"
    },
    {
     "data": {
      "text/plain": [
       "name           object\n",
       "capital        object\n",
       "population      int64\n",
       "area          float64\n",
       "region         object\n",
       "dtype: object"
      ]
     },
     "metadata": {},
     "output_type": "display_data"
    }
   ],
   "source": [
    "df = pd.read_csv(r\"E:\\GitHub\\Pandas\\countries_data.csv\")\n",
    "\n",
    "# head is used for displaying the first 5 rows of the data\n",
    "\n",
    "display(\"First five rows\", df.head())\n",
    "\n",
    "# tail is used for displaying the last 5 rows of the data\n",
    "\n",
    "display(\"Last five rows\",df.tail())\n",
    "\n",
    "# info is used for displaying the information about the data\n",
    "\n",
    "display(\"Information about the data\",df.info)\n",
    "\n",
    "# describe is used for displaying the statistical information about the data\n",
    "\n",
    "display(\"Statistical information about the data\",df.describe())\n",
    "\n",
    "# type is used for displaying the type of the data\n",
    "\n",
    "display(\"Type of the data\",df.dtypes)\n"
   ]
  },
  {
   "cell_type": "code",
   "execution_count": 16,
   "metadata": {},
   "outputs": [
    {
     "data": {
      "text/plain": [
       "'Number of rows and columns'"
      ]
     },
     "metadata": {},
     "output_type": "display_data"
    },
    {
     "data": {
      "text/plain": [
       "(250, 5)"
      ]
     },
     "metadata": {},
     "output_type": "display_data"
    }
   ],
   "source": [
    "# Shape is attribute not method\n",
    "# use shape to get the number of rows and columns\n",
    "\n",
    "display(\"Number of rows and columns\",df.shape)"
   ]
  },
  {
   "cell_type": "code",
   "execution_count": 17,
   "metadata": {},
   "outputs": [
    {
     "data": {
      "text/plain": [
       "'Column names'"
      ]
     },
     "metadata": {},
     "output_type": "display_data"
    },
    {
     "data": {
      "text/plain": [
       "Index(['name', 'capital', 'population', 'area', 'region'], dtype='object')"
      ]
     },
     "metadata": {},
     "output_type": "display_data"
    },
    {
     "data": {
      "text/plain": [
       "'Selecting subset of columns'"
      ]
     },
     "metadata": {},
     "output_type": "display_data"
    },
    {
     "data": {
      "text/plain": [
       "0      South Georgia\n",
       "1            Grenada\n",
       "2        Switzerland\n",
       "3       Sierra Leone\n",
       "4            Hungary\n",
       "           ...      \n",
       "245          Belgium\n",
       "246           Israel\n",
       "247      New Zealand\n",
       "248        Nicaragua\n",
       "249         Anguilla\n",
       "Name: name, Length: 250, dtype: object"
      ]
     },
     "metadata": {},
     "output_type": "display_data"
    },
    {
     "data": {
      "text/plain": [
       "'Selecting multiple columns'"
      ]
     },
     "metadata": {},
     "output_type": "display_data"
    },
    {
     "data": {
      "text/html": [
       "<div>\n",
       "<style scoped>\n",
       "    .dataframe tbody tr th:only-of-type {\n",
       "        vertical-align: middle;\n",
       "    }\n",
       "\n",
       "    .dataframe tbody tr th {\n",
       "        vertical-align: top;\n",
       "    }\n",
       "\n",
       "    .dataframe thead th {\n",
       "        text-align: right;\n",
       "    }\n",
       "</style>\n",
       "<table border=\"1\" class=\"dataframe\">\n",
       "  <thead>\n",
       "    <tr style=\"text-align: right;\">\n",
       "      <th></th>\n",
       "      <th>name</th>\n",
       "      <th>area</th>\n",
       "      <th>population</th>\n",
       "    </tr>\n",
       "  </thead>\n",
       "  <tbody>\n",
       "    <tr>\n",
       "      <th>0</th>\n",
       "      <td>South Georgia</td>\n",
       "      <td>3903.0</td>\n",
       "      <td>30</td>\n",
       "    </tr>\n",
       "    <tr>\n",
       "      <th>1</th>\n",
       "      <td>Grenada</td>\n",
       "      <td>344.0</td>\n",
       "      <td>112519</td>\n",
       "    </tr>\n",
       "    <tr>\n",
       "      <th>2</th>\n",
       "      <td>Switzerland</td>\n",
       "      <td>41284.0</td>\n",
       "      <td>8654622</td>\n",
       "    </tr>\n",
       "    <tr>\n",
       "      <th>3</th>\n",
       "      <td>Sierra Leone</td>\n",
       "      <td>71740.0</td>\n",
       "      <td>7976985</td>\n",
       "    </tr>\n",
       "    <tr>\n",
       "      <th>4</th>\n",
       "      <td>Hungary</td>\n",
       "      <td>93028.0</td>\n",
       "      <td>9749763</td>\n",
       "    </tr>\n",
       "    <tr>\n",
       "      <th>...</th>\n",
       "      <td>...</td>\n",
       "      <td>...</td>\n",
       "      <td>...</td>\n",
       "    </tr>\n",
       "    <tr>\n",
       "      <th>245</th>\n",
       "      <td>Belgium</td>\n",
       "      <td>30528.0</td>\n",
       "      <td>11555997</td>\n",
       "    </tr>\n",
       "    <tr>\n",
       "      <th>246</th>\n",
       "      <td>Israel</td>\n",
       "      <td>20770.0</td>\n",
       "      <td>9216900</td>\n",
       "    </tr>\n",
       "    <tr>\n",
       "      <th>247</th>\n",
       "      <td>New Zealand</td>\n",
       "      <td>270467.0</td>\n",
       "      <td>5084300</td>\n",
       "    </tr>\n",
       "    <tr>\n",
       "      <th>248</th>\n",
       "      <td>Nicaragua</td>\n",
       "      <td>130373.0</td>\n",
       "      <td>6624554</td>\n",
       "    </tr>\n",
       "    <tr>\n",
       "      <th>249</th>\n",
       "      <td>Anguilla</td>\n",
       "      <td>91.0</td>\n",
       "      <td>13452</td>\n",
       "    </tr>\n",
       "  </tbody>\n",
       "</table>\n",
       "<p>250 rows × 3 columns</p>\n",
       "</div>"
      ],
      "text/plain": [
       "              name      area  population\n",
       "0    South Georgia    3903.0          30\n",
       "1          Grenada     344.0      112519\n",
       "2      Switzerland   41284.0     8654622\n",
       "3     Sierra Leone   71740.0     7976985\n",
       "4          Hungary   93028.0     9749763\n",
       "..             ...       ...         ...\n",
       "245        Belgium   30528.0    11555997\n",
       "246         Israel   20770.0     9216900\n",
       "247    New Zealand  270467.0     5084300\n",
       "248      Nicaragua  130373.0     6624554\n",
       "249       Anguilla      91.0       13452\n",
       "\n",
       "[250 rows x 3 columns]"
      ]
     },
     "metadata": {},
     "output_type": "display_data"
    }
   ],
   "source": [
    "# Use columns to get the column names\n",
    "\n",
    "display(\"Column names\",df.columns)\n",
    "\n",
    "# Select subset of columns\n",
    "\n",
    "country = df['name']\n",
    "display(\"Selecting subset of columns\",country)\n",
    "\n",
    "# Selecting multiple columns\n",
    "\n",
    "multiple_columns = df[['name','area','population']]\n",
    "display(\"Selecting multiple columns\",multiple_columns)"
   ]
  },
  {
   "cell_type": "code",
   "execution_count": 18,
   "metadata": {},
   "outputs": [
    {
     "data": {
      "text/plain": [
       "'Selecting single row'"
      ]
     },
     "metadata": {},
     "output_type": "display_data"
    },
    {
     "data": {
      "text/plain": [
       "name              South Georgia\n",
       "capital       King Edward Point\n",
       "population                   30\n",
       "area                     3903.0\n",
       "region                Antarctic\n",
       "Name: 0, dtype: object"
      ]
     },
     "metadata": {},
     "output_type": "display_data"
    },
    {
     "data": {
      "text/plain": [
       "'Selecting multiple rows'"
      ]
     },
     "metadata": {},
     "output_type": "display_data"
    },
    {
     "data": {
      "text/html": [
       "<div>\n",
       "<style scoped>\n",
       "    .dataframe tbody tr th:only-of-type {\n",
       "        vertical-align: middle;\n",
       "    }\n",
       "\n",
       "    .dataframe tbody tr th {\n",
       "        vertical-align: top;\n",
       "    }\n",
       "\n",
       "    .dataframe thead th {\n",
       "        text-align: right;\n",
       "    }\n",
       "</style>\n",
       "<table border=\"1\" class=\"dataframe\">\n",
       "  <thead>\n",
       "    <tr style=\"text-align: right;\">\n",
       "      <th></th>\n",
       "      <th>name</th>\n",
       "      <th>capital</th>\n",
       "      <th>population</th>\n",
       "      <th>area</th>\n",
       "      <th>region</th>\n",
       "    </tr>\n",
       "  </thead>\n",
       "  <tbody>\n",
       "    <tr>\n",
       "      <th>0</th>\n",
       "      <td>South Georgia</td>\n",
       "      <td>King Edward Point</td>\n",
       "      <td>30</td>\n",
       "      <td>3903.0</td>\n",
       "      <td>Antarctic</td>\n",
       "    </tr>\n",
       "    <tr>\n",
       "      <th>1</th>\n",
       "      <td>Grenada</td>\n",
       "      <td>St. George's</td>\n",
       "      <td>112519</td>\n",
       "      <td>344.0</td>\n",
       "      <td>Americas</td>\n",
       "    </tr>\n",
       "    <tr>\n",
       "      <th>2</th>\n",
       "      <td>Switzerland</td>\n",
       "      <td>Bern</td>\n",
       "      <td>8654622</td>\n",
       "      <td>41284.0</td>\n",
       "      <td>Europe</td>\n",
       "    </tr>\n",
       "  </tbody>\n",
       "</table>\n",
       "</div>"
      ],
      "text/plain": [
       "            name            capital  population     area     region\n",
       "0  South Georgia  King Edward Point          30   3903.0  Antarctic\n",
       "1        Grenada       St. George's      112519    344.0   Americas\n",
       "2    Switzerland               Bern     8654622  41284.0     Europe"
      ]
     },
     "metadata": {},
     "output_type": "display_data"
    },
    {
     "data": {
      "text/plain": [
       "'Selecting multiple rows and columns'"
      ]
     },
     "metadata": {},
     "output_type": "display_data"
    },
    {
     "data": {
      "text/html": [
       "<div>\n",
       "<style scoped>\n",
       "    .dataframe tbody tr th:only-of-type {\n",
       "        vertical-align: middle;\n",
       "    }\n",
       "\n",
       "    .dataframe tbody tr th {\n",
       "        vertical-align: top;\n",
       "    }\n",
       "\n",
       "    .dataframe thead th {\n",
       "        text-align: right;\n",
       "    }\n",
       "</style>\n",
       "<table border=\"1\" class=\"dataframe\">\n",
       "  <thead>\n",
       "    <tr style=\"text-align: right;\">\n",
       "      <th></th>\n",
       "      <th>name</th>\n",
       "      <th>area</th>\n",
       "      <th>population</th>\n",
       "    </tr>\n",
       "  </thead>\n",
       "  <tbody>\n",
       "    <tr>\n",
       "      <th>0</th>\n",
       "      <td>South Georgia</td>\n",
       "      <td>3903.0</td>\n",
       "      <td>30</td>\n",
       "    </tr>\n",
       "    <tr>\n",
       "      <th>1</th>\n",
       "      <td>Grenada</td>\n",
       "      <td>344.0</td>\n",
       "      <td>112519</td>\n",
       "    </tr>\n",
       "    <tr>\n",
       "      <th>2</th>\n",
       "      <td>Switzerland</td>\n",
       "      <td>41284.0</td>\n",
       "      <td>8654622</td>\n",
       "    </tr>\n",
       "  </tbody>\n",
       "</table>\n",
       "</div>"
      ],
      "text/plain": [
       "            name     area  population\n",
       "0  South Georgia   3903.0          30\n",
       "1        Grenada    344.0      112519\n",
       "2    Switzerland  41284.0     8654622"
      ]
     },
     "metadata": {},
     "output_type": "display_data"
    }
   ],
   "source": [
    "# Selecting single row\n",
    "\n",
    "single_row = df.loc[0]\n",
    "display(\"Selecting single row\",single_row)\n",
    "\n",
    "# Selecting multiple rows\n",
    "\n",
    "multiple_rows = df.loc[[0,1,2]]\n",
    "display(\"Selecting multiple rows\",multiple_rows)\n",
    "\n",
    "selecting_rows_and_columns = df.loc[[0,1,2],['name','area','population']]\n",
    "display(\"Selecting multiple rows and columns\",selecting_rows_and_columns)\n",
    "\n",
    "# Selecting rows based on condition\n",
    "\n",
    "selecting_rows_based_on_condition = df[df['area'] > 100000]"
   ]
  },
  {
   "cell_type": "code",
   "execution_count": 20,
   "metadata": {},
   "outputs": [
    {
     "data": {
      "text/html": [
       "<div>\n",
       "<style scoped>\n",
       "    .dataframe tbody tr th:only-of-type {\n",
       "        vertical-align: middle;\n",
       "    }\n",
       "\n",
       "    .dataframe tbody tr th {\n",
       "        vertical-align: top;\n",
       "    }\n",
       "\n",
       "    .dataframe thead th {\n",
       "        text-align: right;\n",
       "    }\n",
       "</style>\n",
       "<table border=\"1\" class=\"dataframe\">\n",
       "  <thead>\n",
       "    <tr style=\"text-align: right;\">\n",
       "      <th></th>\n",
       "      <th>name</th>\n",
       "      <th>capital</th>\n",
       "      <th>population</th>\n",
       "      <th>area</th>\n",
       "      <th>region</th>\n",
       "    </tr>\n",
       "  </thead>\n",
       "  <tbody>\n",
       "    <tr>\n",
       "      <th>0</th>\n",
       "      <td>South Georgia</td>\n",
       "      <td>King Edward Point</td>\n",
       "      <td>30</td>\n",
       "      <td>3903.0</td>\n",
       "      <td>Antarctic</td>\n",
       "    </tr>\n",
       "    <tr>\n",
       "      <th>1</th>\n",
       "      <td>Grenada</td>\n",
       "      <td>St. George's</td>\n",
       "      <td>112519</td>\n",
       "      <td>344.0</td>\n",
       "      <td>Americas</td>\n",
       "    </tr>\n",
       "    <tr>\n",
       "      <th>2</th>\n",
       "      <td>Switzerland</td>\n",
       "      <td>Bern</td>\n",
       "      <td>8654622</td>\n",
       "      <td>41284.0</td>\n",
       "      <td>Europe</td>\n",
       "    </tr>\n",
       "  </tbody>\n",
       "</table>\n",
       "</div>"
      ],
      "text/plain": [
       "            name            capital  population     area     region\n",
       "0  South Georgia  King Edward Point          30   3903.0  Antarctic\n",
       "1        Grenada       St. George's      112519    344.0   Americas\n",
       "2    Switzerland               Bern     8654622  41284.0     Europe"
      ]
     },
     "metadata": {},
     "output_type": "display_data"
    }
   ],
   "source": [
    "#Select rows using iloc\n",
    "\n",
    "selecting_rows_using_iloc = df.iloc[0:3]\n",
    "display(selecting_rows_using_iloc)\n"
   ]
  },
  {
   "cell_type": "code",
   "execution_count": 19,
   "metadata": {},
   "outputs": [
    {
     "data": {
      "text/plain": [
       "0      Earth\n",
       "1       Moon\n",
       "2       Mars\n",
       "3      Venus\n",
       "4    Jupiter\n",
       "5     Saturn\n",
       "6     Uranus\n",
       "7    Neptune\n",
       "8      Pluto\n",
       "dtype: object"
      ]
     },
     "metadata": {},
     "output_type": "display_data"
    }
   ],
   "source": [
    "# Create a Series\n",
    "\n",
    "s = pd.Series([\"Earth\", \"Moon\", \"Mars\", \"Venus\", \"Jupiter\", \"Saturn\", \"Uranus\", \"Neptune\", \"Pluto\"])\n",
    "display(s)"
   ]
  }
 ],
 "metadata": {
  "kernelspec": {
   "display_name": ".venv",
   "language": "python",
   "name": "python3"
  },
  "language_info": {
   "codemirror_mode": {
    "name": "ipython",
    "version": 3
   },
   "file_extension": ".py",
   "mimetype": "text/x-python",
   "name": "python",
   "nbconvert_exporter": "python",
   "pygments_lexer": "ipython3",
   "version": "3.13.3"
  }
 },
 "nbformat": 4,
 "nbformat_minor": 2
}
